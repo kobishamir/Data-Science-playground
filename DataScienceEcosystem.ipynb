{
 "cells": [
  {
   "cell_type": "markdown",
   "id": "28e06a2b-7415-4fd8-a946-53cda9580386",
   "metadata": {},
   "source": [
    "# Data Science Tools and Ecosystem"
   ]
  },
  {
   "cell_type": "markdown",
   "id": "977539a9-9ebe-4b03-84d2-cf1741b73f04",
   "metadata": {},
   "source": [
    "## Author\n",
    "Kobi Shamir"
   ]
  },
  {
   "cell_type": "markdown",
   "id": "e723a86d-761d-41c9-96e3-6aaa2aaf0782",
   "metadata": {},
   "source": [
    "In this notebook, Data Science Tools and Ecosystem are summarized."
   ]
  },
  {
   "cell_type": "markdown",
   "id": "dd964fdc-69dd-4564-ad5b-e4c488370c44",
   "metadata": {},
   "source": [
    "**Objectives:**"
   ]
  },
  {
   "cell_type": "markdown",
   "id": "ae910088-3734-4072-8be0-0d1d953b5683",
   "metadata": {},
   "source": [
    "<li>List popular languages for Data Science</li>\n",
    "<li>List popular libraries for Data Science</li>\n",
    "<li>Table of popular Tools for Data Science</li>\n",
    "<li>Arithmetic expressions in Python</li>\n",
    "\n"
   ]
  },
  {
   "cell_type": "markdown",
   "id": "b3b001e7-d9a7-4ff6-84fb-a05d3455bf33",
   "metadata": {},
   "source": [
    "Some of the popular languages that Data Scientists use are:\r",
    "\r",
    "<ol>\n",
    "  <li>Python</li>\n",
    "  <li>R</li>\n",
    "  <li>Julia</li>\n",
    "  <li>Scala</li>\n",
    "\n",
    "</ol>"
   ]
  },
  {
   "cell_type": "markdown",
   "id": "3e942bb5-9ad5-4c97-8fc9-9e2aed50ea44",
   "metadata": {},
   "source": [
    "Some of the commonly used libraries used by Data Scientists include:\n",
    "\n",
    "<ol>\n",
    "  <li>NumPy</li>\n",
    "  <li>SciPy</li>\n",
    "  <li>TensorFlow</li>\n",
    "  <li>Matplotlib</li>\n",
    "</ol>"
   ]
  },
  {
   "cell_type": "markdown",
   "id": "54ea6a95-0f3e-4e2f-a288-9a5f74fd7b7f",
   "metadata": {},
   "source": [
    "|Data Science Tools|\n",
    "|------------------|\n",
    "|RStudio|\n",
    "|Apache Spark|\n",
    "|Apache Hadoop|"
   ]
  },
  {
   "cell_type": "markdown",
   "id": "442807da-412e-4061-b705-bf406c97c111",
   "metadata": {},
   "source": [
    "### Below are a few examples of evaluating arithmetic expressions in Python"
   ]
  },
  {
   "cell_type": "code",
   "execution_count": 2,
   "id": "b91d4587-ccf6-4b0a-9d2c-1038be710508",
   "metadata": {},
   "outputs": [
    {
     "data": {
      "text/plain": [
       "17"
      ]
     },
     "execution_count": 2,
     "metadata": {},
     "output_type": "execute_result"
    }
   ],
   "source": [
    "# This a simple arithmetic expression to mutiply then add integers\n",
    "(3*4)+5"
   ]
  },
  {
   "cell_type": "code",
   "execution_count": 3,
   "id": "e7d61190-56e9-4d0b-ad20-403c66111043",
   "metadata": {},
   "outputs": [
    {
     "name": "stdout",
     "output_type": "stream",
     "text": [
      "3.3333333333333335\n"
     ]
    }
   ],
   "source": [
    "# This will convert 200 minutes to hours by diving by 60\n",
    "minuts = 200\n",
    "hours = 200/60\n",
    "print (hours)"
   ]
  },
  {
   "cell_type": "code",
   "execution_count": null,
   "id": "08198ed1-f356-4006-a1a9-de8045932c78",
   "metadata": {},
   "outputs": [],
   "source": []
  }
 ],
 "metadata": {
  "kernelspec": {
   "display_name": "Python 3 (ipykernel)",
   "language": "python",
   "name": "python3"
  },
  "language_info": {
   "codemirror_mode": {
    "name": "ipython",
    "version": 3
   },
   "file_extension": ".py",
   "mimetype": "text/x-python",
   "name": "python",
   "nbconvert_exporter": "python",
   "pygments_lexer": "ipython3",
   "version": "3.11.8"
  }
 },
 "nbformat": 4,
 "nbformat_minor": 5
}
